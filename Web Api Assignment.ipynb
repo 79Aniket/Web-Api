{
 "cells": [
  {
   "cell_type": "markdown",
   "id": "14b3e803-0b7d-477c-bc4b-9ef5a0728785",
   "metadata": {},
   "source": [
    "## Q1. What is an API? Give an example, where an API is used in real life."
   ]
  },
  {
   "cell_type": "markdown",
   "id": "78fff394-542c-4422-96d8-fe42e824547b",
   "metadata": {},
   "source": [
    "## API stands for Application Programming Interface. It's a software intermediary that enables two applications to communicate and exchange data in a structured way. Think of it as a waiter in a restaurant who takes your order (request) to the kitchen (system) and brings back your food (response).\n",
    "\n",
    "## Real-life examples of APIs:\n",
    "## .Weather apps: Fetch current weather data from weather APIs.\n",
    "## .Online maps: Retrieve directions and traffic information from mapping APIs.\n",
    "## .Social media apps: Integrate with social media APIs to post updates, view feeds, and interact with friends.\n",
    "## .Online shopping: Access product information, process payments, and track orders through e-commerce APIs.\n",
    "## .Flight booking: Search for flights, compare prices, and book tickets using airline APIs."
   ]
  },
  {
   "cell_type": "code",
   "execution_count": null,
   "id": "39421fb8-a861-4a33-b47b-112ed91f6f25",
   "metadata": {},
   "outputs": [],
   "source": []
  },
  {
   "cell_type": "markdown",
   "id": "f413c6c2-74ea-4391-a798-46c4a66130d6",
   "metadata": {},
   "source": [
    "## Q2. Give advantages and disadvantages of using API."
   ]
  },
  {
   "cell_type": "markdown",
   "id": "d6703e28-ace4-4266-be2d-21306cc8d443",
   "metadata": {},
   "source": [
    "# Advantages of using APIs:\n",
    "## .Convenience: APIs provide seamless access to data and functionality without needing to build it yourself.\n",
    "## .Integration: They enable easy integration of different applications and services, creating richer user experiences.\n",
    "## .Efficiency: Automating tasks and streamlining processes through APIs saves time and resources.\n",
    "## .Security: Secure authentication and authorization mechanisms built into APIs protect sensitive data and access.\n",
    "\n",
    "# Disadvantages of using APIs:\n",
    "## .Complexity: Integrating with APIs can be complex, requiring technical expertise and understanding of their protocols.\n",
    "## .Dependence: Relying on external APIs introduces a dependency, affecting your application if the API is unavailable or changes.\n",
    "## .Security risks: APIs can be vulnerable to security breaches if not properly designed and implemented.\n",
    "## .Documentation: Keeping up with API documentation updates and changes can be a challenge."
   ]
  },
  {
   "cell_type": "code",
   "execution_count": null,
   "id": "401a8fec-4ccc-4555-8eee-8e4fb1f757f6",
   "metadata": {},
   "outputs": [],
   "source": []
  },
  {
   "cell_type": "markdown",
   "id": "d1febd12-a121-40e8-a096-31009af81695",
   "metadata": {},
   "source": [
    "## Q3. What is a Web API? Differentiate between API and Web API."
   ]
  },
  {
   "cell_type": "markdown",
   "id": "9badcd40-9763-4993-b9c9-147d0e8c3483",
   "metadata": {},
   "source": [
    "## A web API is an application programming interface (API) for either a web server or a web browser. As a web development concept, it can be related to a web application's client side (including any web frameworks being used). A server-side web API consists of one or more publicly exposed endpoints to a defined request–response message system, typically expressed in JSON or XML by means of an HTTP-based web server\n",
    "## D ifferences between API and Web API:\n",
    "# Web API : Specific type of API designed for web communication. Primarily uses HTTP protocols. Typically accessible over the internet. Usually uses JSON or XML for web compatibility. Web services, cloud integration, mobile apps\n",
    "\n",
    "# API : Broader term for any interface between applications. Can use various protocols (RPC, SOAP, etc.) . Can be local or remote. Can use various formats. System integration, database access.\n"
   ]
  },
  {
   "cell_type": "code",
   "execution_count": null,
   "id": "fb034fc3-cfb9-426b-bf11-1e1b1811dc50",
   "metadata": {},
   "outputs": [],
   "source": []
  },
  {
   "cell_type": "markdown",
   "id": "979c7c8d-806b-4a01-beff-e893a3806257",
   "metadata": {},
   "source": [
    "## Q4. Explain REST and SOAP Architecture. Mention shortcomings of SOAP."
   ]
  },
  {
   "cell_type": "markdown",
   "id": "16f3299c-d26a-41a1-8039-ff1e66c9691a",
   "metadata": {},
   "source": [
    "## REST (REpresentational State Transfer):\n",
    "## Architectural style: Defines guidelines for designing APIs.\n",
    "## Focuses on resources: APIs expose data as resources accessed through URLs.\n",
    "## Uses standard HTTP verbs: GET, POST, PUT, DELETE represent actions on resources.\n",
    "## Stateless: Each request is independent and servers don't store state.\n",
    "## Lightweight: Uses JSON, XML, or plain text for data exchange.\n",
    "\n",
    "## SOAP (Simple Object Access Protocol):\n",
    "## Protocol: Defines a specific way of exchanging data.\n",
    "## Focuses on operations: APIs expose functionalities as operations wrapped in XML.\n",
    "## Uses custom protocols: SOAP messages exchanged over HTTP or other protocols.\n",
    "## Stateful: Servers maintain state between requests using SOAP headers.\n",
    "## Heavyweight: Uses only XML for data exchange, with complex envelope structure.\n",
    "\n",
    "## Shortcomings of SOAP:\n",
    "## Verbosity: XML messages are large and complex, leading to slower performance.\n",
    "## Limited data formats: Only supports XML, hindering integration with other platforms.\n",
    "## Complexity: Development and debugging are more challenging due to strict standards.\n",
    "## Scalability: Stateful nature makes it difficult to handle high traffic and scale efficiently.\n",
    "## Less flexible: Rigid structure limits adaptation to different protocols and platforms.\n"
   ]
  },
  {
   "cell_type": "code",
   "execution_count": null,
   "id": "c33a7470-a1d7-4921-a759-481c27151e7c",
   "metadata": {},
   "outputs": [],
   "source": []
  },
  {
   "cell_type": "markdown",
   "id": "9c56800d-0b99-4dd0-934a-a87f36c3fbe2",
   "metadata": {},
   "source": [
    "## Q5. Differentiate between REST and SOAP."
   ]
  },
  {
   "cell_type": "markdown",
   "id": "dbd97c45-cd25-45cd-ad2e-e6e21af4e04d",
   "metadata": {},
   "source": [
    "# Structure:\n",
    "## SOAP: Defined protocol with strict rules and standards. Uses XML for data and messaging.\n",
    "## REST: Architectural style with guidelines, not a strict protocol. More flexible, allowing various data formats like JSON, XML, or even plain text.\n",
    "# Complexity:\n",
    "## SOAP: More complex with verbose XML structure and specific messaging patterns.\n",
    "## REST: Simpler design, using HTTP methods (GET, POST, PUT, DELETE) and URLs for interaction.\n",
    "# Performance:\n",
    "## SOAP: Generally slower due to larger, heavier XML messages.\n",
    "## REST: Faster due to smaller, lighter data formats and efficient HTTP interaction.\n",
    "# Security:\n",
    "## SOAP: Offers built-in security features like encryption and digital signatures.\n",
    "## REST: Security often implemented separately, requiring additional layers.\n",
    "# Flexibility:\n",
    "## SOAP: Less flexible due to strict syntax and limitations.\n",
    "## REST: Highly flexible, adaptable to various data formats and platforms.\n",
    "# Use cases:\n",
    "## SOAP: Preferred for enterprise integrations, requiring strict data validation and security, often in legacy systems.\n",
    "## REST: Ideal for modern web applications, mobile APIs, and internet-of-things (IoT) platforms, where simplicity and performance are crucial.\n"
   ]
  },
  {
   "cell_type": "code",
   "execution_count": null,
   "id": "0ddc24df-8b62-457f-8058-717aa3bca86d",
   "metadata": {},
   "outputs": [],
   "source": []
  }
 ],
 "metadata": {
  "kernelspec": {
   "display_name": "Python 3 (ipykernel)",
   "language": "python",
   "name": "python3"
  },
  "language_info": {
   "codemirror_mode": {
    "name": "ipython",
    "version": 3
   },
   "file_extension": ".py",
   "mimetype": "text/x-python",
   "name": "python",
   "nbconvert_exporter": "python",
   "pygments_lexer": "ipython3",
   "version": "3.10.8"
  }
 },
 "nbformat": 4,
 "nbformat_minor": 5
}
